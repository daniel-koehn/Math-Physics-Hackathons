{
 "cells": [
  {
   "cell_type": "markdown",
   "metadata": {},
   "source": [
    "Content by Daniel Köhn (2021) under Creative Commons Attribution license CC-BY 4.0, code under BSD 3-Clause License © 2018"
   ]
  },
  {
   "cell_type": "code",
   "execution_count": 1,
   "metadata": {},
   "outputs": [
    {
     "data": {
      "text/html": [
       "<link href=\"https://fonts.googleapis.com/css?family=Merriweather:300,300i,400,400i,700,700i,900,900i\" rel='stylesheet' >\n",
       "<link href=\"https://fonts.googleapis.com/css?family=Source+Sans+Pro:300,300i,400,400i,700,700i\" rel='stylesheet' >\n",
       "<link href='http://fonts.googleapis.com/css?family=Source+Code+Pro:300,400' rel='stylesheet' >\n",
       "<style>\n",
       "\n",
       "@font-face {\n",
       "    font-family: \"Computer Modern\";\n",
       "    src: url('http://mirrors.ctan.org/fonts/cm-unicode/fonts/otf/cmunss.otf');\n",
       "}\n",
       "\n",
       "\n",
       "#notebook_panel { /* main background */\n",
       "    background: rgb(245,245,245);\n",
       "}\n",
       "\n",
       "div.cell { /* set cell width */\n",
       "    width: 800px;\n",
       "}\n",
       "\n",
       "div #notebook { /* centre the content */\n",
       "    background: #fff; /* white background for content */\n",
       "    width: 1000px;\n",
       "    margin: auto;\n",
       "    padding-left: 0em;\n",
       "}\n",
       "\n",
       "#notebook li { /* More space between bullet points */\n",
       "margin-top:0.5em;\n",
       "}\n",
       "\n",
       "/* draw border around running cells */\n",
       "div.cell.border-box-sizing.code_cell.running { \n",
       "    border: 1px solid #111;\n",
       "}\n",
       "\n",
       "/* Put a solid color box around each cell and its output, visually linking them*/\n",
       "div.cell.code_cell {\n",
       "    background-color: rgb(256,256,256); \n",
       "    border-radius: 0px; \n",
       "    padding: 0.5em;\n",
       "    margin-left:1em;\n",
       "    margin-top: 1em;\n",
       "}\n",
       "\n",
       "\n",
       "div.text_cell_render{\n",
       "    font-family: 'Source Sans Pro', sans-serif;\n",
       "    line-height: 140%;\n",
       "    font-size: 110%;\n",
       "    width:680px;\n",
       "    margin-left:auto;\n",
       "    margin-right:auto;\n",
       "}\n",
       "\n",
       "/* Formatting for header cells */\n",
       ".text_cell_render h1 {\n",
       "    font-family: 'Merriweather', serif;\n",
       "    font-style:regular;\n",
       "    font-weight: bold;    \n",
       "    font-size: 250%;\n",
       "    line-height: 100%;\n",
       "    color: #004065;\n",
       "    margin-bottom: 1em;\n",
       "    margin-top: 0.5em;\n",
       "    display: block;\n",
       "}\t\n",
       ".text_cell_render h2 {\n",
       "    font-family: 'Merriweather', serif;\n",
       "    font-weight: bold; \n",
       "    font-size: 180%;\n",
       "    line-height: 100%;\n",
       "    color: #0096d6;\n",
       "    margin-bottom: 0.5em;\n",
       "    margin-top: 0.5em;\n",
       "    display: block;\n",
       "}\t\n",
       "\n",
       ".text_cell_render h3 {\n",
       "    font-family: 'Merriweather', serif;\n",
       "\tfont-size: 150%;\n",
       "    margin-top:12px;\n",
       "    margin-bottom: 3px;\n",
       "    font-style: regular;\n",
       "    color: #008367;\n",
       "}\n",
       "\n",
       ".text_cell_render h4 {    /*Use this for captions*/\n",
       "    font-family: 'Merriweather', serif;\n",
       "    font-weight: 300; \n",
       "    font-size: 100%;\n",
       "    line-height: 120%;\n",
       "    text-align: left;\n",
       "    width:500px;\n",
       "    margin-top: 1em;\n",
       "    margin-bottom: 2em;\n",
       "    margin-left: 80pt;\n",
       "    font-style: regular;\n",
       "}\n",
       "\n",
       ".text_cell_render h5 {  /*Use this for small titles*/\n",
       "    font-family: 'Source Sans Pro', sans-serif;\n",
       "    font-weight: regular;\n",
       "    font-size: 130%;\n",
       "    color: #e31937;\n",
       "    font-style: italic;\n",
       "    margin-bottom: .5em;\n",
       "    margin-top: 1em;\n",
       "    display: block;\n",
       "}\n",
       "\n",
       ".text_cell_render h6 { /*use this for copyright note*/\n",
       "    font-family: 'Source Code Pro', sans-serif;\n",
       "    font-weight: 300;\n",
       "    font-size: 9pt;\n",
       "    line-height: 100%;\n",
       "    color: grey;\n",
       "    margin-bottom: 1px;\n",
       "    margin-top: 1px;\n",
       "}\n",
       "\n",
       "    .CodeMirror{\n",
       "            font-family: \"Source Code Pro\";\n",
       "\t\t\tfont-size: 90%;\n",
       "    }\n",
       "/*    .prompt{\n",
       "        display: None;\n",
       "    }*/\n",
       "\t\n",
       "    \n",
       "    .warning{\n",
       "        color: rgb( 240, 20, 20 )\n",
       "        }  \n",
       "</style>\n",
       "<script>\n",
       "    MathJax.Hub.Config({\n",
       "                        TeX: {\n",
       "                           extensions: [\"AMSmath.js\"], \n",
       "                           equationNumbers: { autoNumber: \"AMS\", useLabelIds: true}\n",
       "                           },\n",
       "                tex2jax: {\n",
       "                    inlineMath: [ ['$','$'], [\"\\\\(\",\"\\\\)\"] ],\n",
       "                    displayMath: [ ['$$','$$'], [\"\\\\[\",\"\\\\]\"] ]\n",
       "                },\n",
       "                displayAlign: 'center', // Change this to 'center' to center equations.\n",
       "                \"HTML-CSS\": {\n",
       "                    styles: {'.MathJax_Display': {\"margin\": 4}}\n",
       "                }\n",
       "        });\n",
       "</script>\n"
      ],
      "text/plain": [
       "<IPython.core.display.HTML object>"
      ]
     },
     "execution_count": 1,
     "metadata": {},
     "output_type": "execute_result"
    }
   ],
   "source": [
    "# Execute this cell to load the notebook's style sheet, then ignore it\n",
    "from IPython.core.display import HTML\n",
    "css_file = '../../style/custom.css'\n",
    "HTML(open(css_file, \"r\").read())"
   ]
  },
  {
   "cell_type": "markdown",
   "metadata": {},
   "source": [
    "# Analysis of NGC 7332 lucky imaging test run\n",
    "08.09.2021, 22:54 UT - 00:17 UT"
   ]
  },
  {
   "cell_type": "markdown",
   "metadata": {},
   "source": [
    "### Equipment\n",
    "\n",
    "C 14 Edge HD + .7 reducer + ZWO ASI 1600 MM Pro @ -15°C (Gain = 450)\n",
    "\n",
    "Mount: CGE-Pro\n",
    "\n",
    "Filter: -\n",
    "\n",
    "Autoguiding: Artesky 70 mm Guidscope (f=400 mm), ZWO ASI 120 MM mini, PhD2\n",
    "\n",
    "TEMPEST cooldown time: 3h 53 min"
   ]
  },
  {
   "cell_type": "markdown",
   "metadata": {},
   "source": [
    "### Imaging Workflow\n",
    "\n",
    "- NINA: three point polar alignment, autofocus, 1st collimation check with CCD Inspector demo, locking primary mirror, 2nd collimation check with CCD Inspector demo, plate solving on NGC 7332 \n",
    "\n",
    "- disconnect focus motor!! to avoid automatic refocusing to Firecapture settings\n",
    "\n",
    "- Firecapture: capturing 5 x 1000 x 1 s batches of images as SER movies\n",
    "\n",
    "- NINA: moving to home position, cover scope with dust cap\n",
    "\n",
    "- Firecapture: taking 1000 x 1 s dark frames as SER movies"
   ]
  },
  {
   "cell_type": "markdown",
   "metadata": {},
   "source": [
    "### Data Processing\n",
    "\n",
    "**Autostakkert!3.1.4.:**\n",
    "\n",
    "Settings\n",
    "\n",
    "- Image Stabilization: Surface, Cropped\n",
    "\n",
    "- Quality Estimator: Laplace, Noise Robust 4, Local (AP)\n",
    "\n",
    "- Reference Frame: Auto\n",
    "\n",
    "- Stack Options: FIT, \n",
    "\n",
    "Number of Frames to Stack: 10, 1\n",
    "\n",
    "Frame Percentage to stack: 100, 50, 25, 5 \n",
    "\n",
    "- Advanced Settings: Drizzle Off\n",
    "\n",
    "**Processing for each of the 5 x 1000 frame batches**\n",
    "\n",
    "1. Open SER file\n",
    "\n",
    "2. Open Dark frame\n",
    "\n",
    "3. Set image stabilization anchor on a bright star\n",
    "\n",
    "4. Analyse\n",
    "\n",
    "5. Set alignement points (size 88) on non-overexposed stars\n",
    "\n",
    "6. Stack\n",
    "\n",
    "**PixInsight**\n",
    "\n",
    "- For each of the frame/percentage stacks register images with StarAlignment\n",
    "\n",
    "- Check registration with Blink\n",
    "\n",
    "- Image Integration with Pixel Rejection (Windsorized Sigma Clipping)\n",
    "\n",
    "- FWHM analysis using the SubframSelector\n",
    "\n",
    "Subframe scale: 0.29\"/pixel according to the [astronomy.tools CCD suitibility calculator](https://astronomy.tools/calculators/ccd_suitability), not sure if this also includes the 146.05 mm backfocus distance"
   ]
  },
  {
   "cell_type": "markdown",
   "metadata": {},
   "source": [
    "### Tested stacks (best frames/percentage)\n",
    "\n",
    "- 1 frame (0.02 %)\n",
    "\n",
    "- 5 frames (0.1 %)\n",
    "\n",
    "- 50 frames (1 %)\n",
    "\n",
    "- 250 frames (5 %)\n",
    "\n",
    "- 1250 frames (25 %)\n",
    "\n",
    "- 2500 frames (50 %)\n",
    "\n",
    "- 5000 frames (100 %)"
   ]
  },
  {
   "cell_type": "code",
   "execution_count": 2,
   "metadata": {},
   "outputs": [],
   "source": [
    "# import Python libraries\n",
    "import numpy as np\n",
    "import matplotlib.pyplot as plt\n",
    "from pylab import rcParams"
   ]
  },
  {
   "cell_type": "code",
   "execution_count": 3,
   "metadata": {},
   "outputs": [
    {
     "name": "stdout",
     "output_type": "stream",
     "text": [
      "perframes [%] =  [2.0e-02 1.0e-01 1.0e+00 5.0e+00 2.5e+01 5.0e+01 1.0e+02]\n"
     ]
    }
   ],
   "source": [
    "# Define FWHM test results\n",
    "\n",
    "# total number of frames\n",
    "ntot = 5000\n",
    "\n",
    "# number of stacks\n",
    "nstack = 7\n",
    "\n",
    "# array with number of frames\n",
    "nframes = np.zeros(nstack)\n",
    "nframes = ([1,5,50,250,1250,2500,5000])\n",
    "\n",
    "# array with percentage of frames [%]\n",
    "perframes = 100 * np.divide(nframes,ntot)\n",
    "\n",
    "# array with FWHM values [arcseconds]\n",
    "FWHM = np.zeros(nstack)\n",
    "FWHM = ([0.992, 1.008, 1.100, 1.160, 1.198, 1.244, 1.341])\n",
    "\n",
    "print('perframes [%] = ', perframes)"
   ]
  },
  {
   "cell_type": "markdown",
   "metadata": {},
   "source": [
    "## Plot FWHM vs. stack size"
   ]
  },
  {
   "cell_type": "code",
   "execution_count": 4,
   "metadata": {},
   "outputs": [
    {
     "data": {
      "image/png": "[encoded data removed]",
      "text/plain": [
       "<Figure size 864x360 with 1 Axes>"
      ]
     },
     "metadata": {
      "needs_background": "light"
     },
     "output_type": "display_data"
    }
   ],
   "source": [
    "# Define figure size\n",
    "rcParams['figure.figsize'] = 12, 5\n",
    "\n",
    "# Plotting of gaussian\n",
    "plt.plot(perframes, FWHM,'*-')\n",
    "plt.title('FWHM vs. stacksize [%]')\n",
    "plt.xlabel('Stacksize [%]')\n",
    "plt.ylabel('FWHM [\"]')\n",
    "plt.grid()\n",
    "plt.show()"
   ]
  },
  {
   "cell_type": "markdown",
   "metadata": {},
   "source": [
    "## Plot FWHM reduction vs. stack size"
   ]
  },
  {
   "cell_type": "code",
   "execution_count": 5,
   "metadata": {},
   "outputs": [
    {
     "data": {
      "image/png": "[encoded data removed]",
      "text/plain": [
       "<Figure size 864x360 with 1 Axes>"
      ]
     },
     "metadata": {
      "needs_background": "light"
     },
     "output_type": "display_data"
    },
    {
     "name": "stdout",
     "output_type": "stream",
     "text": [
      "FWHM reduction [%] =  [26.02535421 24.83221477 17.97166294 13.49739001 10.66368382  7.2334079\n",
      "  0.        ]\n"
     ]
    }
   ],
   "source": [
    "# FWHM reduction relative to 100% stack [%]\n",
    "FWHM_red = 100. * (1 - np.divide(FWHM,FWHM[nstack-1]))\n",
    "\n",
    "# Plotting of gaussian\n",
    "plt.plot(perframes, FWHM_red,'*-')\n",
    "plt.title('FWHM reduction vs. stacksize [%]')\n",
    "plt.xlabel('Stacksize [%]')\n",
    "plt.ylabel('FWHM reduction [%]')\n",
    "plt.grid()\n",
    "plt.show()\n",
    "\n",
    "print('FWHM reduction [%] = ', FWHM_red)"
   ]
  }
 ],
 "metadata": {
  "kernelspec": {
   "display_name": "Python 3",
   "language": "python",
   "name": "python3"
  },
  "language_info": {
   "codemirror_mode": {
    "name": "ipython",
    "version": 3
   },
   "file_extension": ".py",
   "mimetype": "text/x-python",
   "name": "python",
   "nbconvert_exporter": "python",
   "pygments_lexer": "ipython3",
   "version": "3.7.4"
  }
 },
 "nbformat": 4,
 "nbformat_minor": 2
}
